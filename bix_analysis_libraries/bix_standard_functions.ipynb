{
 "cells": [
  {
   "cell_type": "code",
   "execution_count": null,
   "metadata": {},
   "outputs": [],
   "source": [
    "import math\n",
    "import pandas as pd\n",
    "import numpy as np"
   ]
  },
  {
   "cell_type": "markdown",
   "metadata": {},
   "source": [
    "## Pandas functions"
   ]
  },
  {
   "cell_type": "code",
   "execution_count": null,
   "metadata": {},
   "outputs": [],
   "source": [
    "def add_level (df, value, name, axis = 0):\n",
    "    '''\n",
    "    Adds level with a single value to the index of a DataFrame.\n",
    "    :param names: Name of level to add.\n",
    "    :param values: Value of the level.\n",
    "    :param axis: The axis to add the level along. [Default: 0]\n",
    "    :returns: DataFrame with appended level.  \n",
    "    '''\n",
    "    df = pd.concat ({value: df}, names = [name], axis = axis)\n",
    "    return df\n",
    "\n",
    "def add_levels (df, values, names, axis = 0):\n",
    "    '''\n",
    "    Adds levels with a single value to the index of a DataFrame.\n",
    "    :param names: List of names of levels to add.\n",
    "    :param values: List of values for each level.\n",
    "    :param axis: The axis to add the level along. [Default: 0]\n",
    "    :returns: DataFrame with appended levels.  \n",
    "    '''\n",
    "    for value, name in zip (values [ : : -1], names [ : : -1]):\n",
    "        df = add_level (df, value, name, axis = axis)\n",
    "    return df"
   ]
  },
  {
   "cell_type": "markdown",
   "metadata": {},
   "source": [
    "## NumPy functions"
   ]
  },
  {
   "cell_type": "code",
   "execution_count": null,
   "metadata": {},
   "outputs": [],
   "source": [
    "def weighted_avg_and_std (values, weights):\n",
    "    \"\"\"\n",
    "    Calculates weighted average and standard deviation.\n",
    "    :param values: Array containing data to be averaged.\n",
    "    :weights: Array of weights associated with the values.\n",
    "    Should have the same shape as values.\n",
    "    :returns: Weighted average and standard deviation.\n",
    "    \"\"\"\n",
    "    average = np.average (values, weights = weights)\n",
    "    variance = np.average ((values - average) ** 2, weights = weights)\n",
    "    return (average, math.sqrt (variance))"
   ]
  },
  {
   "cell_type": "markdown",
   "metadata": {},
   "source": [
    "## MatPlotLib functions"
   ]
  },
  {
   "cell_type": "code",
   "execution_count": null,
   "metadata": {},
   "outputs": [],
   "source": [
    "def set_axlims (series, margin_factor = 0.1):\n",
    "    \"\"\"\n",
    "    Fix for a scaling issue with matplotlib's scatterplot and small values.\n",
    "    To be used with .set_ylim (bottom, top)\n",
    "    :param series: Series as given to plt.scatter.\n",
    "    :param margin_factor: A fraction of data to expand the borders with.\n",
    "    :returns: A tuple of limits (bottom, top)\n",
    "    \"\"\"\n",
    "    minv = series.min ()\n",
    "    maxv = series.max ()\n",
    "    data_range = maxv - minv\n",
    "    border = abs (data_range * margin_factor)\n",
    "    maxlim = maxv + border\n",
    "    minlim = minv - border\n",
    "\n",
    "    return minlim, maxlim"
   ]
  },
  {
   "cell_type": "code",
   "execution_count": null,
   "metadata": {},
   "outputs": [],
   "source": [
    "def unique_legend (ax):\n",
    "    '''\n",
    "    Takes axis' handles and labels and returns uniques. \n",
    "    :param ax: MatPlotLib axis object.\n",
    "    :returns: A dictionary indexed by handles and labels. \n",
    "    Can be directly unpacked into ax.legend ().\n",
    "    '''\n",
    "    handles, labels =  ax.get_legend_handles_labels()\n",
    "    by_label = dict (zip (labels, handles))\n",
    "    by_label = {\n",
    "        'handles': by_label.values (),\n",
    "        'labels':  by_label.keys ()\n",
    "    }\n",
    "    return by_label"
   ]
  }
 ],
 "metadata": {
  "kernelspec": {
   "display_name": "Python 3",
   "language": "python",
   "name": "python3"
  },
  "language_info": {
   "codemirror_mode": {
    "name": "ipython",
    "version": 3
   },
   "file_extension": ".py",
   "mimetype": "text/x-python",
   "name": "python",
   "nbconvert_exporter": "python",
   "pygments_lexer": "ipython3",
   "version": "3.7.3"
  }
 },
 "nbformat": 4,
 "nbformat_minor": 2
}
